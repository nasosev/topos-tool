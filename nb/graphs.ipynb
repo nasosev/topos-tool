{
 "cells": [
  {
   "cell_type": "markdown",
   "metadata": {},
   "source": [
    "## Graphs example\n",
    "\n",
    "This notebook demonstrates some of the functionality of topos-tool in the example of the category of graphs (i.e. directed multigraphs).\n",
    "We start by defining a basis category.\n",
    "Note that we call this one \"Graphs\" but it is the category of presheaves on it that are graphs.\n",
    "Also note that this particular example can be loaded by typing `open Examples.Graphs` but we make it manually here for demo purposes."
   ]
  },
  {
   "cell_type": "markdown",
   "metadata": {},
   "source": [
    "First load the library `ToposTool.dll` and the `Latex.print` command."
   ]
  },
  {
   "cell_type": "code",
   "execution_count": 1,
   "metadata": {},
   "outputs": [
    {
     "data": {
      "text/html": [
       "\r\n",
       "<div>\r\n",
       "    <div id='dotnet-interactive-this-cell-7057.Microsoft.DotNet.Interactive.Http.HttpPort' style='display: none'>\r\n",
       "        The below script needs to be able to find the current output cell; this is an easy method to get it.\r\n",
       "    </div>\r\n",
       "    <script type='text/javascript'>\r\n",
       "async function probeAddresses(probingAddresses) {\r\n",
       "    function timeout(ms, promise) {\r\n",
       "        return new Promise(function (resolve, reject) {\r\n",
       "            setTimeout(function () {\r\n",
       "                reject(new Error('timeout'))\r\n",
       "            }, ms)\r\n",
       "            promise.then(resolve, reject)\r\n",
       "        })\r\n",
       "    }\r\n",
       "\r\n",
       "    if (Array.isArray(probingAddresses)) {\r\n",
       "        for (let i = 0; i < probingAddresses.length; i++) {\r\n",
       "\r\n",
       "            let rootUrl = probingAddresses[i];\r\n",
       "\r\n",
       "            if (!rootUrl.endsWith('/')) {\r\n",
       "                rootUrl = `${rootUrl}/`;\r\n",
       "            }\r\n",
       "\r\n",
       "            try {\r\n",
       "                let response = await timeout(1000, fetch(`${rootUrl}discovery`, {\r\n",
       "                    method: 'POST',\r\n",
       "                    cache: 'no-cache',\r\n",
       "                    mode: 'cors',\r\n",
       "                    timeout: 1000,\r\n",
       "                    headers: {\r\n",
       "                        'Content-Type': 'text/plain'\r\n",
       "                    },\r\n",
       "                    body: probingAddresses[i]\r\n",
       "                }));\r\n",
       "\r\n",
       "                if (response.status == 200) {\r\n",
       "                    return rootUrl;\r\n",
       "                }\r\n",
       "            }\r\n",
       "            catch (e) { }\r\n",
       "        }\r\n",
       "    }\r\n",
       "}\r\n",
       "\r\n",
       "function loadDotnetInteractiveApi() {\r\n",
       "    probeAddresses([\"http://192.168.1.102:1039/\", \"http://127.0.0.1:1039/\"])\r\n",
       "        .then((root) => {\r\n",
       "        // use probing to find host url and api resources\r\n",
       "        // load interactive helpers and language services\r\n",
       "        let dotnetInteractiveRequire = require.config({\r\n",
       "        context: '7057.Microsoft.DotNet.Interactive.Http.HttpPort',\r\n",
       "                paths:\r\n",
       "            {\r\n",
       "                'dotnet-interactive': `${root}resources`\r\n",
       "                }\r\n",
       "        }) || require;\r\n",
       "\r\n",
       "            window.dotnetInteractiveRequire = dotnetInteractiveRequire;\r\n",
       "\r\n",
       "            window.configureRequireFromExtension = function(extensionName, extensionCacheBuster) {\r\n",
       "                let paths = {};\r\n",
       "                paths[extensionName] = `${root}extensions/${extensionName}/resources/`;\r\n",
       "                \r\n",
       "                let internalRequire = require.config({\r\n",
       "                    context: extensionCacheBuster,\r\n",
       "                    paths: paths,\r\n",
       "                    urlArgs: `cacheBuster=${extensionCacheBuster}`\r\n",
       "                    }) || require;\r\n",
       "\r\n",
       "                return internalRequire\r\n",
       "            };\r\n",
       "        \r\n",
       "            dotnetInteractiveRequire([\r\n",
       "                    'dotnet-interactive/dotnet-interactive'\r\n",
       "                ],\r\n",
       "                function (dotnet) {\r\n",
       "                    dotnet.init(window);\r\n",
       "                },\r\n",
       "                function (error) {\r\n",
       "                    console.log(error);\r\n",
       "                }\r\n",
       "            );\r\n",
       "        })\r\n",
       "        .catch(error => {console.log(error);});\r\n",
       "    }\r\n",
       "\r\n",
       "// ensure `require` is available globally\r\n",
       "if ((typeof(require) !==  typeof(Function)) || (typeof(require.config) !== typeof(Function))) {\r\n",
       "    let require_script = document.createElement('script');\r\n",
       "    require_script.setAttribute('src', 'https://cdnjs.cloudflare.com/ajax/libs/require.js/2.3.6/require.min.js');\r\n",
       "    require_script.setAttribute('type', 'text/javascript');\r\n",
       "    \r\n",
       "    \r\n",
       "    require_script.onload = function() {\r\n",
       "        loadDotnetInteractiveApi();\r\n",
       "    };\r\n",
       "\r\n",
       "    document.getElementsByTagName('head')[0].appendChild(require_script);\r\n",
       "}\r\n",
       "else {\r\n",
       "    loadDotnetInteractiveApi();\r\n",
       "}\r\n",
       "\r\n",
       "    </script>\r\n",
       "</div>"
      ]
     },
     "metadata": {},
     "output_type": "display_data"
    }
   ],
   "source": [
    "#r \"../bin/Release/net5.0/ToposTool.dll\"\n",
    "#load \"../scripts/LatexPrint.fsx\"\n",
    "\n",
    "open LatexPrint"
   ]
  },
  {
   "cell_type": "markdown",
   "metadata": {},
   "source": [
    "Next we make the basis category.\n",
    "\n",
    "We start by defining a type for the objects of the category as a single-case discriminated union of string type. (Defining our objects as plain strings, or of any other type would also work, but doing it this way ensures the type system will save us from accidentally combining structures on different categories in invalid ways).\n",
    "\n",
    "Next we will define the objects, arrows and composition relation of the category.\n",
    "\n",
    "The basis category has two objects $V$ and $E$ representing the vertex and edge.\n",
    "\n",
    "We then define the arrows of the category. Here there are two, $s$ (source) and $t$ (target), both going from the vertex to the edge.\n",
    "\n",
    "Last we define the composition relation. In this case there are no nontrivial data.\n",
    "Now we build the category using `Category.make` which automatically fills in the trivial data.\n",
    "\n",
    "The category looks like this:\n",
    "$$V \\mathrel{\\mathop{\\rightrightarrows}^{\\mathrm{s}}_{\\mathrm{t}}} E$$\n",
    "\n",
    "We can display it using `Latex.print`."
   ]
  },
  {
   "cell_type": "code",
   "execution_count": 2,
   "metadata": {},
   "outputs": [
    {
     "data": {
      "text/latex": [
       "Name: \\[\\mathsf{Graphs}\\]\n",
       "\n",
       "        Objects: \\[\\left\\lbrace E , V  \\right\\rbrace\\]\n",
       "\n",
       "        NonidArrows: \\[\\left\\lbrace s, t \\right\\rbrace\\]\n",
       "\n",
       "        Hom: \\begin{align*} \n",
       "\\langle E , E \\rangle  &\\mapsto  \\lbrace 1_{E }\\rbrace \\\\\n",
       "\\langle E , V \\rangle  &\\mapsto {\\emptyset} \\\\\n",
       "\\langle V , E \\rangle  &\\mapsto  \\lbrace s,  t\\rbrace \\\\\n",
       "\\langle V , V \\rangle  &\\mapsto  \\lbrace 1_{V }\\rbrace \\\\\n",
       " \\end{align*}\n",
       "\n",
       "        Compose: \\begin{align*} \n",
       "\\langle 1_{E }, 1_{E }\\rangle  &\\mapsto 1_{E }\\\\\n",
       "\\langle 1_{E }, s\\rangle  &\\mapsto s\\\\\n",
       "\\langle 1_{E }, t\\rangle  &\\mapsto t\\\\\n",
       "\\langle 1_{V }, 1_{V }\\rangle  &\\mapsto 1_{V }\\\\\n",
       "\\langle s, 1_{V }\\rangle  &\\mapsto s\\\\\n",
       "\\langle t, 1_{V }\\rangle  &\\mapsto t\\\\\n",
       " \\end{align*}"
      ]
     },
     "execution_count": 2,
     "metadata": {},
     "output_type": "execute_result"
    }
   ],
   "source": [
    "type Graphs = Graphs of string\n",
    "\n",
    "let V, E = Graphs \"V\", Graphs \"E\"\n",
    "let objects = [ V; E ]\n",
    "\n",
    "let s, t = Arrow.make \"s\" V E, Arrow.make \"t\" V E\n",
    "let arrows = [ s; t ]\n",
    "\n",
    "let compose = []\n",
    "\n",
    "let cat = Category.make \"Graphs\" objects arrows compose\n",
    "\n",
    "cat |> Latex.print"
   ]
  },
  {
   "cell_type": "markdown",
   "metadata": {},
   "source": [
    "---\n",
    "Next we instantiate the Yoneda functor\n",
    "$$ h : \\mathsf{C} \\to \\mathsf{Set^{C^{op}}}$$\n",
    "whose action on objects is\n",
    "$$ A \\mapsto \\mathsf{hom} \\langle - , A\\rangle$$\n",
    "\n",
    "The image of the Yoneda functor on the objects of our basis are the representable presheaves."
   ]
  },
  {
   "cell_type": "code",
   "execution_count": 3,
   "metadata": {},
   "outputs": [],
   "source": [
    "let yo = Yoneda.yo cat\n",
    "\n",
    "let hV, hE = yo.Ob.[V], yo.Ob.[E]"
   ]
  },
  {
   "cell_type": "markdown",
   "metadata": {},
   "source": [
    "As a graph, hV is a single vertex:"
   ]
  },
  {
   "cell_type": "code",
   "execution_count": 4,
   "metadata": {},
   "outputs": [
    {
     "data": {
      "text/latex": [
       "Name: \\[\\mathsf{{ h_{V } }}\\]\n",
       "\n",
       "        Ob: \\begin{align*} \n",
       "E  &\\mapsto {\\emptyset} \\\\\n",
       "V  &\\mapsto  \\lbrace 1_{V }\\rbrace \\\\\n",
       " \\end{align*}\n",
       "\n",
       "        Ar: \\begin{align*} \n",
       "s &\\mapsto \\left\\lbrace\\begin{aligned} \n",
       "\n",
       " \\end{aligned}\\right\\rbrace \\\\\n",
       "t &\\mapsto \\left\\lbrace\\begin{aligned} \n",
       "\n",
       " \\end{aligned}\\right\\rbrace \\\\\n",
       " \\end{align*}"
      ]
     },
     "execution_count": 4,
     "metadata": {},
     "output_type": "execute_result"
    }
   ],
   "source": [
    "hV |> Latex.print"
   ]
  },
  {
   "cell_type": "markdown",
   "metadata": {},
   "source": [
    "And hE is a graph with two vertices and a single arrow between them:"
   ]
  },
  {
   "cell_type": "code",
   "execution_count": 5,
   "metadata": {},
   "outputs": [
    {
     "data": {
      "text/latex": [
       "Name: \\[\\mathsf{{ h_{E } }}\\]\n",
       "\n",
       "        Ob: \\begin{align*} \n",
       "E  &\\mapsto  \\lbrace 1_{E }\\rbrace \\\\\n",
       "V  &\\mapsto  \\lbrace s,  t\\rbrace \\\\\n",
       " \\end{align*}\n",
       "\n",
       "        Ar: \\begin{align*} \n",
       "s &\\mapsto \\left\\lbrace\\begin{aligned} \n",
       "1_{E } &\\mapsto s\\\\\n",
       " \\end{aligned}\\right\\rbrace \\\\\n",
       "t &\\mapsto \\left\\lbrace\\begin{aligned} \n",
       "1_{E } &\\mapsto t\\\\\n",
       " \\end{aligned}\\right\\rbrace \\\\\n",
       " \\end{align*}"
      ]
     },
     "execution_count": 5,
     "metadata": {},
     "output_type": "execute_result"
    }
   ],
   "source": [
    "hE |> Latex.print"
   ]
  },
  {
   "cell_type": "markdown",
   "metadata": {},
   "source": [
    "---\n",
    "We can perform some basic constructions on subgraphs with products using `*` (a synonym for `Presheaf.product`), sums using `+` (a synonym for `Presheaf.sum`) and exponentials using `^` (a synonym for `Presheaf.exp`), and we can verify identities using `==` (a synonym for `Presheaf.isIso`).\n",
    "\n",
    "Below we verify that\n",
    "$$ h_E \\times h_E \\simeq h_E + h_V + h_V$$"
   ]
  },
  {
   "cell_type": "code",
   "execution_count": 6,
   "metadata": {},
   "outputs": [
    {
     "data": {
      "text/html": [
       "<div class=\"dni-plaintext\">True</div>"
      ]
     },
     "execution_count": 6,
     "metadata": {},
     "output_type": "execute_result"
    }
   ],
   "source": [
    "hE * hE == hE + hV + hV"
   ]
  },
  {
   "cell_type": "markdown",
   "metadata": {},
   "source": [
    "The graph exponential is defined via the adjunction\n",
    "$$ \\mathsf{hom} \\langle F \\times G, H \\rangle \\simeq \\mathsf{hom} \\langle F , H^G \\rangle$$\n",
    "\n",
    "Below we compute $${h_E}^{h_V}$$ which is a graph with 2 vertices and 4 edges--two of them loops on the vertices and the other two going from one vertex to the other in opposite directions."
   ]
  },
  {
   "cell_type": "code",
   "execution_count": 7,
   "metadata": {},
   "outputs": [
    {
     "data": {
      "text/latex": [
       "Name: \\[\\mathsf{( { h_{V } } \\to  { h_{E } }) }\\]\n",
       "\n",
       "        Ob: \\begin{align*} \n",
       "E  &\\mapsto  \\lbrace {( ( { h_{E } } \\times  { h_{V } })  \\Rightarrow  { h_{E } }) }_{0},  {( ( { h_{E } } \\times  { h_{V } })  \\Rightarrow  { h_{E } }) }_{1},  {( ( { h_{E } } \\times  { h_{V } })  \\Rightarrow  { h_{E } }) }_{2},  {( ( { h_{E } } \\times  { h_{V } })  \\Rightarrow  { h_{E } }) }_{3}\\rbrace \\\\\n",
       "V  &\\mapsto  \\lbrace {( ( { h_{V } } \\times  { h_{V } })  \\Rightarrow  { h_{E } }) }_{0},  {( ( { h_{V } } \\times  { h_{V } })  \\Rightarrow  { h_{E } }) }_{1}\\rbrace \\\\\n",
       " \\end{align*}\n",
       "\n",
       "        Ar: \\begin{align*} \n",
       "s &\\mapsto \\left\\lbrace\\begin{aligned} \n",
       "{( ( { h_{E } } \\times  { h_{V } })  \\Rightarrow  { h_{E } }) }_{0} &\\mapsto ( {( ( { h_{E } } \\times  { h_{V } })  \\Rightarrow  { h_{E } }) }_{0} \\circ  ( { h_{s} } \\times  1_{{ h_{V } }}) ) \\\\\n",
       "{( ( { h_{E } } \\times  { h_{V } })  \\Rightarrow  { h_{E } }) }_{1} &\\mapsto ( {( ( { h_{E } } \\times  { h_{V } })  \\Rightarrow  { h_{E } }) }_{1} \\circ  ( { h_{s} } \\times  1_{{ h_{V } }}) ) \\\\\n",
       "{( ( { h_{E } } \\times  { h_{V } })  \\Rightarrow  { h_{E } }) }_{2} &\\mapsto ( {( ( { h_{E } } \\times  { h_{V } })  \\Rightarrow  { h_{E } }) }_{2} \\circ  ( { h_{s} } \\times  1_{{ h_{V } }}) ) \\\\\n",
       "{( ( { h_{E } } \\times  { h_{V } })  \\Rightarrow  { h_{E } }) }_{3} &\\mapsto ( {( ( { h_{E } } \\times  { h_{V } })  \\Rightarrow  { h_{E } }) }_{3} \\circ  ( { h_{s} } \\times  1_{{ h_{V } }}) ) \\\\\n",
       " \\end{aligned}\\right\\rbrace \\\\\n",
       "t &\\mapsto \\left\\lbrace\\begin{aligned} \n",
       "{( ( { h_{E } } \\times  { h_{V } })  \\Rightarrow  { h_{E } }) }_{0} &\\mapsto ( {( ( { h_{E } } \\times  { h_{V } })  \\Rightarrow  { h_{E } }) }_{0} \\circ  ( { h_{t} } \\times  1_{{ h_{V } }}) ) \\\\\n",
       "{( ( { h_{E } } \\times  { h_{V } })  \\Rightarrow  { h_{E } }) }_{1} &\\mapsto ( {( ( { h_{E } } \\times  { h_{V } })  \\Rightarrow  { h_{E } }) }_{1} \\circ  ( { h_{t} } \\times  1_{{ h_{V } }}) ) \\\\\n",
       "{( ( { h_{E } } \\times  { h_{V } })  \\Rightarrow  { h_{E } }) }_{2} &\\mapsto ( {( ( { h_{E } } \\times  { h_{V } })  \\Rightarrow  { h_{E } }) }_{2} \\circ  ( { h_{t} } \\times  1_{{ h_{V } }}) ) \\\\\n",
       "{( ( { h_{E } } \\times  { h_{V } })  \\Rightarrow  { h_{E } }) }_{3} &\\mapsto ( {( ( { h_{E } } \\times  { h_{V } })  \\Rightarrow  { h_{E } }) }_{3} \\circ  ( { h_{t} } \\times  1_{{ h_{V } }}) ) \\\\\n",
       " \\end{aligned}\\right\\rbrace \\\\\n",
       " \\end{align*}"
      ]
     },
     "execution_count": 7,
     "metadata": {},
     "output_type": "execute_result"
    }
   ],
   "source": [
    "hE ^ hV |> Latex.print"
   ]
  },
  {
   "cell_type": "markdown",
   "metadata": {},
   "source": [
    "---\n",
    "The generated names may be complicated, but we use `Presheaf.simplify` to generate an isomorphic presheaf whose figures are integers."
   ]
  },
  {
   "cell_type": "code",
   "execution_count": 8,
   "metadata": {},
   "outputs": [
    {
     "data": {
      "text/latex": [
       "Name: \\[\\mathsf{( { h_{V } } \\to  { h_{E } }) }\\]\n",
       "\n",
       "        Ob: \\begin{align*} \n",
       "E  &\\mapsto  \\lbrace 0,  1,  2,  3\\rbrace \\\\\n",
       "V  &\\mapsto  \\lbrace 0,  1\\rbrace \\\\\n",
       " \\end{align*}\n",
       "\n",
       "        Ar: \\begin{align*} \n",
       "s &\\mapsto \\left\\lbrace\\begin{aligned} \n",
       "0 &\\mapsto 0\\\\\n",
       "1 &\\mapsto 0\\\\\n",
       "2 &\\mapsto 1\\\\\n",
       "3 &\\mapsto 1\\\\\n",
       " \\end{aligned}\\right\\rbrace \\\\\n",
       "t &\\mapsto \\left\\lbrace\\begin{aligned} \n",
       "0 &\\mapsto 0\\\\\n",
       "1 &\\mapsto 1\\\\\n",
       "2 &\\mapsto 0\\\\\n",
       "3 &\\mapsto 1\\\\\n",
       " \\end{aligned}\\right\\rbrace \\\\\n",
       " \\end{align*}"
      ]
     },
     "execution_count": 8,
     "metadata": {},
     "output_type": "execute_result"
    }
   ],
   "source": [
    "let F = hE ^ hV |> Presheaf.simplify\n",
    "\n",
    "F |> Latex.print"
   ]
  },
  {
   "cell_type": "code",
   "execution_count": 9,
   "metadata": {},
   "outputs": [
    {
     "data": {
      "text/html": [
       "<div class=\"dni-plaintext\">True</div>"
      ]
     },
     "execution_count": 9,
     "metadata": {},
     "output_type": "execute_result"
    }
   ],
   "source": [
    "F == hE ^ hV"
   ]
  },
  {
   "cell_type": "markdown",
   "metadata": {},
   "source": [
    "---\n",
    "The algebra of subobjects of a presheaf is computed with `Subobject.algebra`.\n",
    "We can check that there are 21 subgraphs of our last example."
   ]
  },
  {
   "cell_type": "code",
   "execution_count": 10,
   "metadata": {},
   "outputs": [
    {
     "data": {
      "text/html": [
       "<div class=\"dni-plaintext\">21</div>"
      ]
     },
     "execution_count": 10,
     "metadata": {},
     "output_type": "execute_result"
    }
   ],
   "source": [
    "let alg = Subobject.algebra F\n",
    "\n",
    "alg.Subobjects |> Set.count "
   ]
  },
  {
   "cell_type": "markdown",
   "metadata": {},
   "source": [
    "The truth object is a graph for which morphisms to it correspond to subobjects:\n",
    "$$ \\mathsf{sub\\,F} \\simeq \\mathsf{hom} \\langle F, \\Omega \\rangle$$\n",
    "\n",
    "We can compute the truth object of a category using `Truth.omega` and morphisms between presheaves using `Morphism.hom`."
   ]
  },
  {
   "cell_type": "code",
   "execution_count": 11,
   "metadata": {},
   "outputs": [
    {
     "data": {
      "text/html": [
       "<div class=\"dni-plaintext\">21</div>"
      ]
     },
     "execution_count": 11,
     "metadata": {},
     "output_type": "execute_result"
    }
   ],
   "source": [
    "let Om = Truth.omega cat\n",
    "\n",
    "Morphism.hom F Om |> Set.count"
   ]
  },
  {
   "cell_type": "markdown",
   "metadata": {},
   "source": [
    "The subobjects have the structure of a biheyting algebra that supports operations like meet, join, implication, subtraction, negation, supplement.\n",
    "\n",
    "We will take an arbitrary subgraph of the previous example. It happens to have two vertices and no edges:"
   ]
  },
  {
   "cell_type": "code",
   "execution_count": 12,
   "metadata": {},
   "outputs": [
    {
     "data": {
      "text/latex": [
       "Name: \\[\\mathsf{{( { h_{V } } \\to  { h_{E } }) }_{2}}\\]\n",
       "\n",
       "        Ob: \\begin{align*} \n",
       "E  &\\mapsto {\\emptyset} \\\\\n",
       "V  &\\mapsto  \\lbrace 0,  1\\rbrace \\\\\n",
       " \\end{align*}\n",
       "\n",
       "        Ar: \\begin{align*} \n",
       "s &\\mapsto \\left\\lbrace\\begin{aligned} \n",
       "\n",
       " \\end{aligned}\\right\\rbrace \\\\\n",
       "t &\\mapsto \\left\\lbrace\\begin{aligned} \n",
       "\n",
       " \\end{aligned}\\right\\rbrace \\\\\n",
       " \\end{align*}"
      ]
     },
     "execution_count": 12,
     "metadata": {},
     "output_type": "execute_result"
    }
   ],
   "source": [
    "let g = alg.Subobjects |> Seq.item 2 \n",
    "\n",
    "g |> Latex.print"
   ]
  },
  {
   "cell_type": "markdown",
   "metadata": {},
   "source": [
    "The negation of a subgraph is the largest subgraph disjoint from it. For $g$ above, that is the empty graph (or the zero object `Presheaf.zero`):"
   ]
  },
  {
   "cell_type": "code",
   "execution_count": 13,
   "metadata": {},
   "outputs": [
    {
     "data": {
      "text/html": [
       "<div class=\"dni-plaintext\">True</div>"
      ]
     },
     "execution_count": 13,
     "metadata": {},
     "output_type": "execute_result"
    }
   ],
   "source": [
    "let neg_g = Subobject.negate alg g\n",
    "\n",
    "neg_g == Presheaf.zero cat"
   ]
  },
  {
   "cell_type": "markdown",
   "metadata": {},
   "source": [
    "The boundary of a subgraph $X$ is the subgraph of vertices of $X$ connected to the outside.\n",
    "\n",
    "We will check the product rule for the boundary operator holds on the algebra\n",
    "\n",
    "$$ \\partial (X \\land Y) = (\\partial X \\land Y) \\lor ( X \\land \\partial Y)$$"
   ]
  },
  {
   "cell_type": "code",
   "execution_count": 14,
   "metadata": {},
   "outputs": [
    {
     "data": {
      "text/html": [
       "<div class=\"dni-plaintext\">True</div>"
      ]
     },
     "execution_count": 14,
     "metadata": {},
     "output_type": "execute_result"
    }
   ],
   "source": [
    "let (.+) = Subobject.join\n",
    "let (.*) = Subobject.meet\n",
    "let d = Subobject.boundary alg\n",
    "\n",
    "let productRule (X, Y) = d (X .* Y) = (d X .* Y) .+ (X .* d Y)\n",
    "\n",
    "alg.Subobjects |> Set.square |> Set.forall productRule"
   ]
  },
  {
   "cell_type": "markdown",
   "metadata": {},
   "source": [
    "---\n",
    "Graphs can be glued together using colimits. We will glue the two vertices of hE to make a loop.\n",
    "\n",
    "First we find the graph morphisms from $h_V$ to $h_E$: there are just two, sending the single vertex of hV to either vertex of hE."
   ]
  },
  {
   "cell_type": "code",
   "execution_count": 15,
   "metadata": {},
   "outputs": [
    {
     "data": {
      "text/latex": [
       "\\[\\left\\lbrace {( { h_{V } } \\Rightarrow  { h_{E } }) }_{0}, {( { h_{V } } \\Rightarrow  { h_{E } }) }_{1} \\right\\rbrace\\]"
      ]
     },
     "execution_count": 15,
     "metadata": {},
     "output_type": "execute_result"
    }
   ],
   "source": [
    "let morphisms = Morphism.hom hV hE\n",
    "\n",
    "morphisms |> Latex.print"
   ]
  },
  {
   "cell_type": "markdown",
   "metadata": {},
   "source": [
    "To glue the two vertices of $h_E$ together, we use `Presheaf.coequaliser` to take the coequaliser of the diagram\n",
    "$$h_V \\mathrel{\\mathop{\\rightrightarrows}^{\\mathrm{n}}_{\\mathrm{m}}} h_E$$\n",
    "\n",
    "We check it is a loop by printing its data."
   ]
  },
  {
   "cell_type": "code",
   "execution_count": 16,
   "metadata": {},
   "outputs": [
    {
     "data": {
      "text/latex": [
       "Name: \\[\\mathsf{Coeq \\lbrace {( { h_{V } } \\Rightarrow  { h_{E } }) }_{0}, {( { h_{V } } \\Rightarrow  { h_{E } }) }_{1}\\rbrace }\\]\n",
       "\n",
       "        Ob: \\begin{align*} \n",
       "E  &\\mapsto  \\lbrace  \\lbrace 1_{E }\\rbrace \\rbrace \\\\\n",
       "V  &\\mapsto  \\lbrace  \\lbrace s,  t\\rbrace \\rbrace \\\\\n",
       " \\end{align*}\n",
       "\n",
       "        Ar: \\begin{align*} \n",
       "s &\\mapsto \\left\\lbrace\\begin{aligned} \n",
       " \\lbrace 1_{E }\\rbrace  &\\mapsto  \\lbrace s,  t\\rbrace \\\\\n",
       " \\end{aligned}\\right\\rbrace \\\\\n",
       "t &\\mapsto \\left\\lbrace\\begin{aligned} \n",
       " \\lbrace 1_{E }\\rbrace  &\\mapsto  \\lbrace s,  t\\rbrace \\\\\n",
       " \\end{aligned}\\right\\rbrace \\\\\n",
       " \\end{align*}"
      ]
     },
     "execution_count": 16,
     "metadata": {},
     "output_type": "execute_result"
    }
   ],
   "source": [
    "let f = morphisms |> Seq.item 0\n",
    "let g = morphisms |> Seq.item 1\n",
    "\n",
    "let L = Presheaf.coequaliser f g\n",
    "\n",
    "L |> Latex.print"
   ]
  }
 ],
 "metadata": {
  "kernelspec": {
   "display_name": ".NET (F#)",
   "language": "F#",
   "name": ".net-fsharp"
  },
  "language_info": {
   "file_extension": ".fs",
   "mimetype": "text/x-fsharp",
   "name": "C#",
   "pygments_lexer": "fsharp",
   "version": "4.5"
  }
 },
 "nbformat": 4,
 "nbformat_minor": 4
}

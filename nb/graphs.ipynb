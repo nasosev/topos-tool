{
 "metadata": {
  "language_info": {
   "file_extension": ".fs",
   "mimetype": "text/x-fsharp",
   "name": "F#",
   "pygments_lexer": "fsharp",
   "version": 4.5
  },
  "orig_nbformat": 2,
  "kernelspec": {
   "name": ".net-fsharp",
   "display_name": ".NET (F#)",
   "language": "F#"
  }
 },
 "nbformat": 4,
 "nbformat_minor": 2,
 "cells": [
  {
   "source": [
    "## Graphs example\n",
    "\n",
    "This notebook demonstrates some of the functionality of topos-tool in the example of the category of graphs (i.e. directed multigraphs).\n",
    "We start by defining a basis category.\n",
    "Note that we call this one \"Graphs\" but it is the category of presheaves on it that are graphs.\n",
    "Also note that this particular example can be loaded by typing `open Examples.Graphs` but we make it manually here for demo purposes."
   ],
   "cell_type": "markdown",
   "metadata": {}
  },
  {
   "source": [
    "First we run scripts that load `ToposTool.dll` and the `Latex.print` command."
   ],
   "cell_type": "markdown",
   "metadata": {}
  },
  {
   "cell_type": "code",
   "execution_count": 4,
   "metadata": {},
   "outputs": [],
   "source": [
    "#load \"../scripts/Load.fsx\"\n",
    "#load \"../scripts/LatexPrint.fsx\"\n",
    "\n",
    "open LatexPrint"
   ]
  },
  {
   "source": [
    "Next we make the basis category.\n",
    "\n",
    "We start by defining a type for the objects of the category as a single-case discriminated union of string type. (Defining our objects as plain strings, or of any other type would also work, but doing it this way ensures the type system will save us from accidentally combining structures on different categories in invalid ways).\n",
    "\n",
    "Next we will define the objects, arrows and composition relation of the category.\n",
    "\n",
    "The basis category has two objects \"V\" and \"E\" representing the vertex and edge.\n",
    "\n",
    "We then define the arrows of the category. Here there are two, \"s\" (source) and \"t\" (target), both going from the vertex to the edge.\n",
    "\n",
    "Last we define the composition relation. In this case there are no nontrivial data.\n",
    "Now we build the category using `Category.make` which automatically fills in the trivial data.\n",
    "\n",
    "The category looks like this:\n",
    "$$V \\mathrel{\\mathop{\\rightrightarrows}^{\\mathrm{s}}_{\\mathrm{t}}} E$$\n",
    "\n",
    "We can display it using `Latex.print`."
   ],
   "cell_type": "markdown",
   "metadata": {}
  },
  {
   "cell_type": "code",
   "execution_count": 5,
   "metadata": {},
   "outputs": [
    {
     "output_type": "execute_result",
     "data": {
      "text/latex": "Name: \\[\\mathsf{Graphs}\\]\n        Objects: \\[\\left\\lbrace E , V  \\right\\rbrace\\]\n        Hom: \\begin{align*} \n\\langle E , E \\rangle  &\\mapsto  \\lbrace 1_{E }\\rbrace \\\\\n\\langle E , V \\rangle  &\\mapsto {\\emptyset} \\\\\n\\langle V , E \\rangle  &\\mapsto  \\lbrace s,  t\\rbrace \\\\\n\\langle V , V \\rangle  &\\mapsto  \\lbrace 1_{V }\\rbrace \\\\\n \\end{align*}\n        Id: \\begin{align*} \nE  &\\mapsto 1_{E }\\\\\nV  &\\mapsto 1_{V }\\\\\n \\end{align*}\n        Compose: \\begin{align*} \n\\langle 1_{E }, 1_{E }\\rangle  &\\mapsto 1_{E }\\\\\n\\langle 1_{E }, s\\rangle  &\\mapsto s\\\\\n\\langle 1_{E }, t\\rangle  &\\mapsto t\\\\\n\\langle 1_{V }, 1_{V }\\rangle  &\\mapsto 1_{V }\\\\\n\\langle s, 1_{V }\\rangle  &\\mapsto s\\\\\n\\langle t, 1_{V }\\rangle  &\\mapsto t\\\\\n \\end{align*}"
     },
     "metadata": {},
     "execution_count": 5
    }
   ],
   "source": [
    "type Graphs = Graphs of string\n",
    "\n",
    "let V, E = Graphs \"V\", Graphs \"E\"\n",
    "let objects = set [ V; E ]\n",
    "\n",
    "let s, t = Arrow.make \"s\" V E, Arrow.make \"t\" V E\n",
    "let arrows = set [ s; t ]\n",
    "\n",
    "let compose = Map.empty\n",
    "\n",
    "let cat = Category.make \"Graphs\" objects arrows compose\n",
    "\n",
    "cat |> Latex.print"
   ]
  },
  {
   "source": [
    "Next we instantiate the Yoneda functor\n",
    "$$ h : \\mathsf{C} \\to \\mathsf{Set^{C^{op}}}$$\n",
    "whose action on objects is\n",
    "$$ A \\mapsto \\mathsf{hom} \\langle - , A\\rangle$$\n",
    "\n",
    "The image of the Yoneda functor on the objects of our basis are the representable presheaves."
   ],
   "cell_type": "markdown",
   "metadata": {}
  },
  {
   "cell_type": "code",
   "execution_count": 6,
   "metadata": {},
   "outputs": [],
   "source": [
    "let yo = Yoneda.yo cat\n",
    "\n",
    "let hV, hE = yo.Object V, yo.Object E"
   ]
  },
  {
   "source": [
    "As a graph, hV is a single vertex:"
   ],
   "cell_type": "markdown",
   "metadata": {}
  },
  {
   "cell_type": "code",
   "execution_count": 7,
   "metadata": {},
   "outputs": [
    {
     "output_type": "execute_result",
     "data": {
      "text/latex": "Name: \\[\\mathsf{{ h_{V } }}\\]\n        Ob: \\begin{align*} \nE  &\\mapsto {\\emptyset} \\\\\nV  &\\mapsto  \\lbrace 1_{V }\\rbrace \\\\\n \\end{align*}\n        Ar: \\begin{align*} \n1_{E } &\\mapsto \\left\\lbrace\\begin{aligned} \n\n \\end{aligned}\\right\\rbrace \\\\\n1_{V } &\\mapsto \\left\\lbrace\\begin{aligned} \n1_{V } &\\mapsto 1_{V }\\\\\n \\end{aligned}\\right\\rbrace \\\\\ns &\\mapsto \\left\\lbrace\\begin{aligned} \n\n \\end{aligned}\\right\\rbrace \\\\\nt &\\mapsto \\left\\lbrace\\begin{aligned} \n\n \\end{aligned}\\right\\rbrace \\\\\n \\end{align*}"
     },
     "metadata": {},
     "execution_count": 7
    }
   ],
   "source": [
    "hV |> Latex.print"
   ]
  },
  {
   "source": [
    "And hE is a graph with two vertices and a single arrow between them:"
   ],
   "cell_type": "markdown",
   "metadata": {}
  },
  {
   "cell_type": "code",
   "execution_count": 8,
   "metadata": {},
   "outputs": [
    {
     "output_type": "execute_result",
     "data": {
      "text/latex": "Name: \\[\\mathsf{{ h_{E } }}\\]\n        Ob: \\begin{align*} \nE  &\\mapsto  \\lbrace 1_{E }\\rbrace \\\\\nV  &\\mapsto  \\lbrace s,  t\\rbrace \\\\\n \\end{align*}\n        Ar: \\begin{align*} \n1_{E } &\\mapsto \\left\\lbrace\\begin{aligned} \n1_{E } &\\mapsto 1_{E }\\\\\n \\end{aligned}\\right\\rbrace \\\\\n1_{V } &\\mapsto \\left\\lbrace\\begin{aligned} \ns &\\mapsto s\\\\\nt &\\mapsto t\\\\\n \\end{aligned}\\right\\rbrace \\\\\ns &\\mapsto \\left\\lbrace\\begin{aligned} \n1_{E } &\\mapsto s\\\\\n \\end{aligned}\\right\\rbrace \\\\\nt &\\mapsto \\left\\lbrace\\begin{aligned} \n1_{E } &\\mapsto t\\\\\n \\end{aligned}\\right\\rbrace \\\\\n \\end{align*}"
     },
     "metadata": {},
     "execution_count": 8
    }
   ],
   "source": [
    "hE |> Latex.print"
   ]
  },
  {
   "source": [
    "We can perform some basic constructions on subgraphs with products using `*` (a synonym for `Presheaf.product`), sums using `+` (a synonym for `Presheaf.sum`) and exponentials using `^` (a synonym for `Presheaf.exp`), and we can verify identities using `==` (a synonym for `Presheaf.isIso`).\n",
    "\n",
    "Below we verify that\n",
    "$$ h_E \\times h_E \\simeq h_E + h_V + h_V$$"
   ],
   "cell_type": "markdown",
   "metadata": {}
  },
  {
   "cell_type": "code",
   "execution_count": 9,
   "metadata": {},
   "outputs": [
    {
     "output_type": "execute_result",
     "data": {
      "text/html": "<div class=\"dni-plaintext\">True</div>"
     },
     "metadata": {},
     "execution_count": 9
    }
   ],
   "source": [
    "hE * hE == hE + hV + hV"
   ]
  },
  {
   "source": [
    "The graph exponential is defined via the adjunction\n",
    "$$ \\mathsf{hom} \\langle F \\times G, H \\rangle \\simeq \\mathsf{hom} \\langle F , H^G \\rangle$$\n",
    "\n",
    "Below we compute $${h_E}^{h_V}$$ which is a graph with 2 vertices and 4 edges--two of them loops on the vertices and the other two going from one vertex to the other in opposite directions."
   ],
   "cell_type": "markdown",
   "metadata": {}
  },
  {
   "cell_type": "code",
   "execution_count": 10,
   "metadata": {},
   "outputs": [
    {
     "output_type": "execute_result",
     "data": {
      "text/latex": "Name: \\[\\mathsf{( { h_{V } } \\to  { h_{E } }) }\\]\n        Ob: \\begin{align*} \nE  &\\mapsto  \\lbrace {( ( { h_{E } } \\times  { h_{V } })  \\Rightarrow  { h_{E } }) }_{0},  {( ( { h_{E } } \\times  { h_{V } })  \\Rightarrow  { h_{E } }) }_{1},  {( ( { h_{E } } \\times  { h_{V } })  \\Rightarrow  { h_{E } }) }_{2},  {( ( { h_{E } } \\times  { h_{V } })  \\Rightarrow  { h_{E } }) }_{3}\\rbrace \\\\\nV  &\\mapsto  \\lbrace {( ( { h_{V } } \\times  { h_{V } })  \\Rightarrow  { h_{E } }) }_{0},  {( ( { h_{V } } \\times  { h_{V } })  \\Rightarrow  { h_{E } }) }_{1}\\rbrace \\\\\n \\end{align*}\n        Ar: \\begin{align*} \n1_{E } &\\mapsto \\left\\lbrace\\begin{aligned} \n{( ( { h_{E } } \\times  { h_{V } })  \\Rightarrow  { h_{E } }) }_{0} &\\mapsto ( {( ( { h_{E } } \\times  { h_{V } })  \\Rightarrow  { h_{E } }) }_{0} \\circ  ( { h_{1_{E }} } \\times  1_{{ h_{V } }}) ) \\\\\n{( ( { h_{E } } \\times  { h_{V } })  \\Rightarrow  { h_{E } }) }_{1} &\\mapsto ( {( ( { h_{E } } \\times  { h_{V } })  \\Rightarrow  { h_{E } }) }_{1} \\circ  ( { h_{1_{E }} } \\times  1_{{ h_{V } }}) ) \\\\\n{( ( { h_{E } } \\times  { h_{V } })  \\Rightarrow  { h_{E } }) }_{2} &\\mapsto ( {( ( { h_{E } } \\times  { h_{V } })  \\Rightarrow  { h_{E } }) }_{2} \\circ  ( { h_{1_{E }} } \\times  1_{{ h_{V } }}) ) \\\\\n{( ( { h_{E } } \\times  { h_{V } })  \\Rightarrow  { h_{E } }) }_{3} &\\mapsto ( {( ( { h_{E } } \\times  { h_{V } })  \\Rightarrow  { h_{E } }) }_{3} \\circ  ( { h_{1_{E }} } \\times  1_{{ h_{V } }}) ) \\\\\n \\end{aligned}\\right\\rbrace \\\\\n1_{V } &\\mapsto \\left\\lbrace\\begin{aligned} \n{( ( { h_{V } } \\times  { h_{V } })  \\Rightarrow  { h_{E } }) }_{0} &\\mapsto ( {( ( { h_{V } } \\times  { h_{V } })  \\Rightarrow  { h_{E } }) }_{0} \\circ  ( { h_{1_{V }} } \\times  1_{{ h_{V } }}) ) \\\\\n{( ( { h_{V } } \\times  { h_{V } })  \\Rightarrow  { h_{E } }) }_{1} &\\mapsto ( {( ( { h_{V } } \\times  { h_{V } })  \\Rightarrow  { h_{E } }) }_{1} \\circ  ( { h_{1_{V }} } \\times  1_{{ h_{V } }}) ) \\\\\n \\end{aligned}\\right\\rbrace \\\\\ns &\\mapsto \\left\\lbrace\\begin{aligned} \n{( ( { h_{E } } \\times  { h_{V } })  \\Rightarrow  { h_{E } }) }_{0} &\\mapsto ( {( ( { h_{E } } \\times  { h_{V } })  \\Rightarrow  { h_{E } }) }_{0} \\circ  ( { h_{s} } \\times  1_{{ h_{V } }}) ) \\\\\n{( ( { h_{E } } \\times  { h_{V } })  \\Rightarrow  { h_{E } }) }_{1} &\\mapsto ( {( ( { h_{E } } \\times  { h_{V } })  \\Rightarrow  { h_{E } }) }_{1} \\circ  ( { h_{s} } \\times  1_{{ h_{V } }}) ) \\\\\n{( ( { h_{E } } \\times  { h_{V } })  \\Rightarrow  { h_{E } }) }_{2} &\\mapsto ( {( ( { h_{E } } \\times  { h_{V } })  \\Rightarrow  { h_{E } }) }_{2} \\circ  ( { h_{s} } \\times  1_{{ h_{V } }}) ) \\\\\n{( ( { h_{E } } \\times  { h_{V } })  \\Rightarrow  { h_{E } }) }_{3} &\\mapsto ( {( ( { h_{E } } \\times  { h_{V } })  \\Rightarrow  { h_{E } }) }_{3} \\circ  ( { h_{s} } \\times  1_{{ h_{V } }}) ) \\\\\n \\end{aligned}\\right\\rbrace \\\\\nt &\\mapsto \\left\\lbrace\\begin{aligned} \n{( ( { h_{E } } \\times  { h_{V } })  \\Rightarrow  { h_{E } }) }_{0} &\\mapsto ( {( ( { h_{E } } \\times  { h_{V } })  \\Rightarrow  { h_{E } }) }_{0} \\circ  ( { h_{t} } \\times  1_{{ h_{V } }}) ) \\\\\n{( ( { h_{E } } \\times  { h_{V } })  \\Rightarrow  { h_{E } }) }_{1} &\\mapsto ( {( ( { h_{E } } \\times  { h_{V } })  \\Rightarrow  { h_{E } }) }_{1} \\circ  ( { h_{t} } \\times  1_{{ h_{V } }}) ) \\\\\n{( ( { h_{E } } \\times  { h_{V } })  \\Rightarrow  { h_{E } }) }_{2} &\\mapsto ( {( ( { h_{E } } \\times  { h_{V } })  \\Rightarrow  { h_{E } }) }_{2} \\circ  ( { h_{t} } \\times  1_{{ h_{V } }}) ) \\\\\n{( ( { h_{E } } \\times  { h_{V } })  \\Rightarrow  { h_{E } }) }_{3} &\\mapsto ( {( ( { h_{E } } \\times  { h_{V } })  \\Rightarrow  { h_{E } }) }_{3} \\circ  ( { h_{t} } \\times  1_{{ h_{V } }}) ) \\\\\n \\end{aligned}\\right\\rbrace \\\\\n \\end{align*}"
     },
     "metadata": {},
     "execution_count": 10
    }
   ],
   "source": [
    "hE ^ hV |> Latex.print"
   ]
  },
  {
   "source": [
    "The generated names may be complicated, but we can check it's isomorphic to the one we described by defining a new graph with `Presheaf.make` and comparing for isomorphism. Note that we only have to give the nontrivial data when making a presheaf."
   ],
   "cell_type": "markdown",
   "metadata": {}
  },
  {
   "cell_type": "code",
   "execution_count": 11,
   "metadata": {},
   "outputs": [
    {
     "output_type": "execute_result",
     "data": {
      "text/html": "<div class=\"dni-plaintext\">True</div>"
     },
     "metadata": {},
     "execution_count": 11
    }
   ],
   "source": [
    "let F = \n",
    "    let ob = map [V, set [\"v_0\"; \"v_1\"]\n",
    "                  E, set [\"e_0\"; \"e_1\"; \"e_2\"; \"e_3\"]]\n",
    "\n",
    "    let ar = map [s, map [(\"e_0\", \"v_0\"); (\"e_1\", \"v_0\"); (\"e_2\", \"v_1\"); (\"e_3\", \"v_1\")]\n",
    "                  t, map [(\"e_0\", \"v_0\"); (\"e_1\", \"v_1\"); (\"e_2\", \"v_1\"); (\"e_3\", \"v_0\")]]\n",
    "\n",
    "    Presheaf.make \"{{h_E}^{h_V}}\" cat ob ar\n",
    "\n",
    "F == hE ^ hV"
   ]
  },
  {
   "source": [
    "The algebra of subobjects of a presheaf is computed with `Subobject.algebra`.\n",
    "We can check that there are 21 subgraphs of our last example."
   ],
   "cell_type": "markdown",
   "metadata": {}
  },
  {
   "cell_type": "code",
   "execution_count": 12,
   "metadata": {},
   "outputs": [
    {
     "output_type": "execute_result",
     "data": {
      "text/html": "<div class=\"dni-plaintext\">21</div>"
     },
     "metadata": {},
     "execution_count": 12
    }
   ],
   "source": [
    "let alg = Subobject.algebra F\n",
    "\n",
    "alg.Subobjects |> Set.count "
   ]
  },
  {
   "source": [
    "The truth object is a graph for which morphisms to it correspond to subobjects:\n",
    "$$ \\mathsf{sub\\,F} \\simeq \\mathsf{hom} \\langle F, \\Omega \\rangle$$\n",
    "\n",
    "We can compute the truth object of a category using `Truth.omega` and morphisms between presheaves using `Morphism.hom`."
   ],
   "cell_type": "markdown",
   "metadata": {}
  },
  {
   "cell_type": "code",
   "execution_count": 10,
   "metadata": {},
   "outputs": [
    {
     "output_type": "execute_result",
     "data": {
      "text/html": "<div class=\"dni-plaintext\">21</div>"
     },
     "metadata": {},
     "execution_count": 10
    }
   ],
   "source": [
    "let Om = Truth.omega cat\n",
    "\n",
    "Morphism.hom F Om |> Set.count"
   ]
  },
  {
   "source": [
    "The subobjects have the structure of a biheyting algebra that supports operations like meet, join, implication, subtraction, negation, supplement.\n",
    "\n",
    "We will take an arbitrary subgraph of the previous example. It happens to have two vertices and no edges:"
   ],
   "cell_type": "markdown",
   "metadata": {}
  },
  {
   "cell_type": "code",
   "execution_count": 13,
   "metadata": {},
   "outputs": [
    {
     "output_type": "execute_result",
     "data": {
      "text/latex": "Name: \\[\\mathsf{{{{h_E}^{h_V}}}_{18}}\\]\n        Ob: \\begin{align*} \nE  &\\mapsto {\\emptyset} \\\\\nV  &\\mapsto  \\lbrace  v_0 ,   v_1 \\rbrace \\\\\n \\end{align*}\n        Ar: \\begin{align*} \n1_{E } &\\mapsto \\left\\lbrace\\begin{aligned} \n\n \\end{aligned}\\right\\rbrace \\\\\n1_{V } &\\mapsto \\left\\lbrace\\begin{aligned} \n v_0  &\\mapsto  v_0 \\\\\n v_1  &\\mapsto  v_1 \\\\\n \\end{aligned}\\right\\rbrace \\\\\ns &\\mapsto \\left\\lbrace\\begin{aligned} \n\n \\end{aligned}\\right\\rbrace \\\\\nt &\\mapsto \\left\\lbrace\\begin{aligned} \n\n \\end{aligned}\\right\\rbrace \\\\\n \\end{align*}"
     },
     "metadata": {},
     "execution_count": 13
    }
   ],
   "source": [
    "let g = alg.Subobjects |> Seq.item 2 \n",
    "\n",
    "g |> Latex.print"
   ]
  },
  {
   "source": [
    "The negation of a subgraph is the largest subgraph disjoint from it. For g above, that is the empty graph (or the zero object `Presheaf.zero`):"
   ],
   "cell_type": "markdown",
   "metadata": {}
  },
  {
   "cell_type": "code",
   "execution_count": 15,
   "metadata": {},
   "outputs": [
    {
     "output_type": "execute_result",
     "data": {
      "text/html": "<div class=\"dni-plaintext\">True</div>"
     },
     "metadata": {},
     "execution_count": 15
    }
   ],
   "source": [
    "let neg_g = Subobject.negate alg g\n",
    "\n",
    "neg_g == Presheaf.zero cat"
   ]
  },
  {
   "source": [
    "The boundary operator of a subgraph X is the subgraph of vertices of X connected to the outside.\n",
    "\n",
    "We will check the product rule for the boundary operator holds on the algebra\n",
    "\n",
    "$$ \\partial (X \\land Y) = (\\partial X \\land Y) \\lor ( X \\land \\partial Y)$$"
   ],
   "cell_type": "markdown",
   "metadata": {}
  },
  {
   "cell_type": "code",
   "execution_count": 16,
   "metadata": {},
   "outputs": [
    {
     "output_type": "execute_result",
     "data": {
      "text/html": "<div class=\"dni-plaintext\">True</div>"
     },
     "metadata": {},
     "execution_count": 16
    }
   ],
   "source": [
    "let (.+) = Subobject.join\n",
    "let (.*) = Subobject.meet\n",
    "let d = Subobject.boundary alg\n",
    "\n",
    "let productRule (X, Y) = d (X .* Y) = (d X .* Y) .+ (X .* d Y)\n",
    "\n",
    "alg.Subobjects |> Set.square |> Set.forall productRule"
   ]
  },
  {
   "source": [
    "Graphs can be glued together using colimits. We will glue the two vertices of hE to make a loop.\n",
    "First we find the graph morphisms from hV to hE: there are just two, sending the single vertex of hV to either vertex of hE."
   ],
   "cell_type": "markdown",
   "metadata": {}
  },
  {
   "cell_type": "code",
   "execution_count": 17,
   "metadata": {},
   "outputs": [
    {
     "output_type": "execute_result",
     "data": {
      "text/latex": "\\[\\left\\lbrace {( { h_{V } } \\Rightarrow  { h_{E } }) }_{0}, {( { h_{V } } \\Rightarrow  { h_{E } }) }_{1} \\right\\rbrace\\]"
     },
     "metadata": {},
     "execution_count": 17
    }
   ],
   "source": [
    "let morphisms = Morphism.hom hV hE\n",
    "\n",
    "morphisms |> Latex.print"
   ]
  },
  {
   "source": [
    "To glue the two vertices of hE together, we use `Presheaf.coequaliser` to take the coequaliser of the diagram\n",
    "$$h_V \\mathrel{\\mathop{\\rightrightarrows}^{\\mathrm{n}}_{\\mathrm{m}}} h_E$$\n",
    "\n",
    "We check it is a loop by printing its data."
   ],
   "cell_type": "markdown",
   "metadata": {}
  },
  {
   "cell_type": "code",
   "execution_count": 18,
   "metadata": {},
   "outputs": [
    {
     "output_type": "execute_result",
     "data": {
      "text/latex": "Name: \\[\\mathsf{Coeq \\lbrace {( { h_{V } } \\Rightarrow  { h_{E } }) }_{0}, {( { h_{V } } \\Rightarrow  { h_{E } }) }_{1}\\rbrace }\\]\n        Ob: \\begin{align*} \nE  &\\mapsto  \\lbrace  \\lbrace 1_{E }\\rbrace \\rbrace \\\\\nV  &\\mapsto  \\lbrace  \\lbrace s,  t\\rbrace \\rbrace \\\\\n \\end{align*}\n        Ar: \\begin{align*} \n1_{E } &\\mapsto \\left\\lbrace\\begin{aligned} \n \\lbrace 1_{E }\\rbrace  &\\mapsto  \\lbrace 1_{E }\\rbrace \\\\\n \\end{aligned}\\right\\rbrace \\\\\n1_{V } &\\mapsto \\left\\lbrace\\begin{aligned} \n \\lbrace s,  t\\rbrace  &\\mapsto  \\lbrace s,  t\\rbrace \\\\\n \\end{aligned}\\right\\rbrace \\\\\ns &\\mapsto \\left\\lbrace\\begin{aligned} \n \\lbrace 1_{E }\\rbrace  &\\mapsto  \\lbrace s,  t\\rbrace \\\\\n \\end{aligned}\\right\\rbrace \\\\\nt &\\mapsto \\left\\lbrace\\begin{aligned} \n \\lbrace 1_{E }\\rbrace  &\\mapsto  \\lbrace s,  t\\rbrace \\\\\n \\end{aligned}\\right\\rbrace \\\\\n \\end{align*}"
     },
     "metadata": {},
     "execution_count": 18
    }
   ],
   "source": [
    "let f = morphisms |> Seq.item 0\n",
    "let g = morphisms |> Seq.item 1\n",
    "\n",
    "let L = Presheaf.coequaliser f g\n",
    "\n",
    "L |> Latex.print"
   ]
  }
 ]
}
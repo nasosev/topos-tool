{
 "metadata": {
  "language_info": {
   "file_extension": ".fs",
   "mimetype": "text/x-fsharp",
   "name": "F#",
   "pygments_lexer": "fsharp",
   "version": 4.5
  },
  "orig_nbformat": 2,
  "kernelspec": {
   "name": ".net-fsharp",
   "display_name": ".NET (F#)",
   "language": "F#"
  }
 },
 "nbformat": 4,
 "nbformat_minor": 2,
 "cells": [
  {
   "source": [
    "## Graphs example\n",
    "\n",
    "This notebook demonstrates some of the functionality of topos-tool in the example of the category of graphs (i.e. directed multigraphs).\n",
    "We start by defining a basis category.\n",
    "Note that we call this one \"Graphs\" but it is the category of presheaves on it that are graphs.\n",
    "Also note that this particular example can be loaded by typing `open Examples.Graphs` but we make it manually here for demo purposes."
   ],
   "cell_type": "markdown",
   "metadata": {}
  },
  {
   "cell_type": "code",
   "execution_count": 2,
   "metadata": {},
   "outputs": [],
   "source": [
    "#load \"../scripts/LoadCompiled.fsx\" // This loads `ToposTool.dll`.\n",
    "#load \"../scripts/LatexPrint.fsx\" // This loads the `Latex.print` command.\n",
    "\n",
    "open LatexPrint"
   ]
  },
  {
   "cell_type": "code",
   "execution_count": 3,
   "metadata": {},
   "outputs": [
    {
     "output_type": "execute_result",
     "data": {
      "text/latex": "Name: \\[\\mathsf{Graphs}\\]\n        Objects: \\[\\left\\lbrace  E ,  V  \\right\\rbrace\\]\n        Hom: \\begin{align*}\n\\langle  E ,  E &\\mapsto  \\lbrace 1_{ E }\\rbrace \\\\\n\\langle  E ,  V &\\mapsto  \\emptyset \\\\\n\\langle  V ,  E &\\mapsto  \\lbrace s,  t\\rbrace \\\\\n\\langle  V ,  V &\\mapsto  \\lbrace 1_{ V }\\rbrace \\\\\n\\end{align*}\n        Id: \\begin{align*}\n E  &\\mapsto 1_{ E }\\\\\n V  &\\mapsto 1_{ V }\\\\\n\\end{align*}\n        Compose: \\begin{align*}\n\\langle 1_{ E }, 1_{ E }\\rangle  &\\mapsto 1_{ E }\\\\\n\\langle 1_{ E }, s\\rangle  &\\mapsto s\\\\\n\\langle 1_{ E }, t\\rangle  &\\mapsto t\\\\\n\\langle 1_{ V }, 1_{ V }\\rangle  &\\mapsto 1_{ V }\\\\\n\\langle s, 1_{ V }\\rangle  &\\mapsto s\\\\\n\\langle t, 1_{ V }\\rangle  &\\mapsto t\\\\\n\\end{align*}"
     },
     "metadata": {},
     "execution_count": 3
    }
   ],
   "source": [
    "type Graphs = Graphs of string // Define type for the objects of the category. Not strictly necessary but helps with type-safety.\n",
    "\n",
    "\n",
    "let V, E = Graphs \"V\", Graphs \"E\" // Define basis objects representing the vertex and the edge.\n",
    "\n",
    "let objects = set [ V; E ]\n",
    "\n",
    "\n",
    "let s, t = Arrow.make \"s\" V E, Arrow.make \"t\" V E // Define source and target arrows from the edge to the vertex.\n",
    "\n",
    "let arrows = set [ s; t ]\n",
    "\n",
    "\n",
    "let compose = Map.empty // (There are no nontrivial relationships between arrows.)\n",
    "\n",
    "\n",
    "let cat = Category.make \"Graphs\" objects arrows compose // Make the category.\n",
    "\n",
    "cat |> Latex.print"
   ]
  },
  {
   "cell_type": "code",
   "execution_count": 4,
   "metadata": {},
   "outputs": [
    {
     "output_type": "execute_result",
     "data": {
      "text/latex": "Name: \\[\\mathsf{{ h_{ V } }}\\]\n        Ob: \\begin{align*}\n E  &\\mapsto  \\emptyset \\\\\n V  &\\mapsto  \\lbrace 1_{ V }\\rbrace \\\\\n\\end{align*}\n        Ar: \\begin{align*}\n1_{ E } &\\mapsto \\left\\lbrace\\begin{aligned}\n\n\\end{aligned}\\right\\rbrace \\\\\n1_{ V } &\\mapsto \\left\\lbrace\\begin{aligned}\n1_{ V } &\\mapsto 1_{ V }\\\\\n\\end{aligned}\\right\\rbrace \\\\\ns &\\mapsto \\left\\lbrace\\begin{aligned}\n\n\\end{aligned}\\right\\rbrace \\\\\nt &\\mapsto \\left\\lbrace\\begin{aligned}\n\n\\end{aligned}\\right\\rbrace \\\\\n\\end{align*}"
     },
     "metadata": {},
     "execution_count": 4
    }
   ],
   "source": [
    "let yo = Yoneda.yo cat // Define the Yoneda functor.\n",
    "\n",
    "let hV, hE = yo.Object V, yo.Object E // Define the representable presheaves.\n",
    "\n",
    "\n",
    "hV |> Latex.print // hV is the graph that is a single vertex."
   ]
  },
  {
   "cell_type": "code",
   "execution_count": 5,
   "metadata": {},
   "outputs": [
    {
     "output_type": "execute_result",
     "data": {
      "text/latex": "Name: \\[\\mathsf{{ h_{ E } }}\\]\n        Ob: \\begin{align*}\n E  &\\mapsto  \\lbrace 1_{ E }\\rbrace \\\\\n V  &\\mapsto  \\lbrace s,  t\\rbrace \\\\\n\\end{align*}\n        Ar: \\begin{align*}\n1_{ E } &\\mapsto \\left\\lbrace\\begin{aligned}\n1_{ E } &\\mapsto 1_{ E }\\\\\n\\end{aligned}\\right\\rbrace \\\\\n1_{ V } &\\mapsto \\left\\lbrace\\begin{aligned}\ns &\\mapsto s\\\\\nt &\\mapsto t\\\\\n\\end{aligned}\\right\\rbrace \\\\\ns &\\mapsto \\left\\lbrace\\begin{aligned}\n1_{ E } &\\mapsto s\\\\\n\\end{aligned}\\right\\rbrace \\\\\nt &\\mapsto \\left\\lbrace\\begin{aligned}\n1_{ E } &\\mapsto t\\\\\n\\end{aligned}\\right\\rbrace \\\\\n\\end{align*}"
     },
     "metadata": {},
     "execution_count": 5
    }
   ],
   "source": [
    "hE |> Latex.print // hE is the graph that is two vertices and one edge between them."
   ]
  },
  {
   "cell_type": "code",
   "execution_count": 6,
   "metadata": {},
   "outputs": [
    {
     "output_type": "execute_result",
     "data": {
      "text/html": "<div class=\"dni-plaintext\">True</div>"
     },
     "metadata": {},
     "execution_count": 6
    }
   ],
   "source": [
    "let (*) F G = Presheaf.product F G // Define shortcuts for basic operations.\n",
    "let (+) F G = Presheaf.sum F G\n",
    "let (^) F G = Presheaf.exp cat G F\n",
    "\n",
    "\n",
    "Presheaf.isIso (hE * hE) (hE + (hV + hV)) // We can verify some identities: hE * hE = hE + (hV + hV)"
   ]
  },
  {
   "cell_type": "code",
   "execution_count": 7,
   "metadata": {},
   "outputs": [
    {
     "output_type": "execute_result",
     "data": {
      "text/latex": "Name: \\[\\mathsf{({ h_{ V } } \\to  { h_{ E } })}\\]\n        Ob: \\begin{align*}\n E  &\\mapsto  \\lbrace {(({ h_{ E } } \\times  { h_{ V } }) \\Rightarrow  { h_{ E } })}_{0},  {(({ h_{ E } } \\times  { h_{ V } }) \\Rightarrow  { h_{ E } })}_{1},  {(({ h_{ E } } \\times  { h_{ V } }) \\Rightarrow  { h_{ E } })}_{2},  {(({ h_{ E } } \\times  { h_{ V } }) \\Rightarrow  { h_{ E } })}_{3}\\rbrace \\\\\n V  &\\mapsto  \\lbrace {(({ h_{ V } } \\times  { h_{ V } }) \\Rightarrow  { h_{ E } })}_{0},  {(({ h_{ V } } \\times  { h_{ V } }) \\Rightarrow  { h_{ E } })}_{1}\\rbrace \\\\\n\\end{align*}\n        Ar: \\begin{align*}\n1_{ E } &\\mapsto \\left\\lbrace\\begin{aligned}\n{(({ h_{ E } } \\times  { h_{ V } }) \\Rightarrow  { h_{ E } })}_{0} &\\mapsto ({(({ h_{ E } } \\times  { h_{ V } }) \\Rightarrow  { h_{ E } })}_{0} \\circ  ({ h_{1_{ E }} } \\times  1_{{ h_{ V } }}))\\\\\n{(({ h_{ E } } \\times  { h_{ V } }) \\Rightarrow  { h_{ E } })}_{1} &\\mapsto ({(({ h_{ E } } \\times  { h_{ V } }) \\Rightarrow  { h_{ E } })}_{1} \\circ  ({ h_{1_{ E }} } \\times  1_{{ h_{ V } }}))\\\\\n{(({ h_{ E } } \\times  { h_{ V } }) \\Rightarrow  { h_{ E } })}_{2} &\\mapsto ({(({ h_{ E } } \\times  { h_{ V } }) \\Rightarrow  { h_{ E } })}_{2} \\circ  ({ h_{1_{ E }} } \\times  1_{{ h_{ V } }}))\\\\\n{(({ h_{ E } } \\times  { h_{ V } }) \\Rightarrow  { h_{ E } })}_{3} &\\mapsto ({(({ h_{ E } } \\times  { h_{ V } }) \\Rightarrow  { h_{ E } })}_{3} \\circ  ({ h_{1_{ E }} } \\times  1_{{ h_{ V } }}))\\\\\n\\end{aligned}\\right\\rbrace \\\\\n1_{ V } &\\mapsto \\left\\lbrace\\begin{aligned}\n{(({ h_{ V } } \\times  { h_{ V } }) \\Rightarrow  { h_{ E } })}_{0} &\\mapsto ({(({ h_{ V } } \\times  { h_{ V } }) \\Rightarrow  { h_{ E } })}_{0} \\circ  ({ h_{1_{ V }} } \\times  1_{{ h_{ V } }}))\\\\\n{(({ h_{ V } } \\times  { h_{ V } }) \\Rightarrow  { h_{ E } })}_{1} &\\mapsto ({(({ h_{ V } } \\times  { h_{ V } }) \\Rightarrow  { h_{ E } })}_{1} \\circ  ({ h_{1_{ V }} } \\times  1_{{ h_{ V } }}))\\\\\n\\end{aligned}\\right\\rbrace \\\\\ns &\\mapsto \\left\\lbrace\\begin{aligned}\n{(({ h_{ E } } \\times  { h_{ V } }) \\Rightarrow  { h_{ E } })}_{0} &\\mapsto ({(({ h_{ E } } \\times  { h_{ V } }) \\Rightarrow  { h_{ E } })}_{0} \\circ  ({ h_{s} } \\times  1_{{ h_{ V } }}))\\\\\n{(({ h_{ E } } \\times  { h_{ V } }) \\Rightarrow  { h_{ E } })}_{1} &\\mapsto ({(({ h_{ E } } \\times  { h_{ V } }) \\Rightarrow  { h_{ E } })}_{1} \\circ  ({ h_{s} } \\times  1_{{ h_{ V } }}))\\\\\n{(({ h_{ E } } \\times  { h_{ V } }) \\Rightarrow  { h_{ E } })}_{2} &\\mapsto ({(({ h_{ E } } \\times  { h_{ V } }) \\Rightarrow  { h_{ E } })}_{2} \\circ  ({ h_{s} } \\times  1_{{ h_{ V } }}))\\\\\n{(({ h_{ E } } \\times  { h_{ V } }) \\Rightarrow  { h_{ E } })}_{3} &\\mapsto ({(({ h_{ E } } \\times  { h_{ V } }) \\Rightarrow  { h_{ E } })}_{3} \\circ  ({ h_{s} } \\times  1_{{ h_{ V } }}))\\\\\n\\end{aligned}\\right\\rbrace \\\\\nt &\\mapsto \\left\\lbrace\\begin{aligned}\n{(({ h_{ E } } \\times  { h_{ V } }) \\Rightarrow  { h_{ E } })}_{0} &\\mapsto ({(({ h_{ E } } \\times  { h_{ V } }) \\Rightarrow  { h_{ E } })}_{0} \\circ  ({ h_{t} } \\times  1_{{ h_{ V } }}))\\\\\n{(({ h_{ E } } \\times  { h_{ V } }) \\Rightarrow  { h_{ E } })}_{1} &\\mapsto ({(({ h_{ E } } \\times  { h_{ V } }) \\Rightarrow  { h_{ E } })}_{1} \\circ  ({ h_{t} } \\times  1_{{ h_{ V } }}))\\\\\n{(({ h_{ E } } \\times  { h_{ V } }) \\Rightarrow  { h_{ E } })}_{2} &\\mapsto ({(({ h_{ E } } \\times  { h_{ V } }) \\Rightarrow  { h_{ E } })}_{2} \\circ  ({ h_{t} } \\times  1_{{ h_{ V } }}))\\\\\n{(({ h_{ E } } \\times  { h_{ V } }) \\Rightarrow  { h_{ E } })}_{3} &\\mapsto ({(({ h_{ E } } \\times  { h_{ V } }) \\Rightarrow  { h_{ E } })}_{3} \\circ  ({ h_{t} } \\times  1_{{ h_{ V } }}))\\\\\n\\end{aligned}\\right\\rbrace \\\\\n\\end{align*}"
     },
     "metadata": {},
     "execution_count": 7
    }
   ],
   "source": [
    "hE ^ hV |> Latex.print // hE ^ hV is a graph with two vertices and four edges, two of them loops on the vertices and the other two going from one vertex to the other in opposite directions."
   ]
  },
  {
   "cell_type": "code",
   "execution_count": 8,
   "metadata": {},
   "outputs": [
    {
     "output_type": "execute_result",
     "data": {
      "text/html": "<div class=\"dni-plaintext\">True</div>"
     },
     "metadata": {},
     "execution_count": 8
    }
   ],
   "source": [
    "// The generated names can be complicated, but we can check it's isomorphic to the one we described.\n",
    "\n",
    "// To define a presheaf manually we only need to give the nontrivial data:\n",
    "\n",
    "let F = \n",
    "    let ob = map [V, set [\"v_0\"; \"v_1\"]\n",
    "                  E, set [\"e_0\"; \"e_1\"; \"e_2\"; \"e_3\"]]\n",
    "\n",
    "    let ar = map [s, map [(\"e_0\", \"v_0\"); (\"e_1\", \"v_0\"); (\"e_2\", \"v_1\"); (\"e_3\", \"v_1\")]\n",
    "                  t, map [(\"e_0\", \"v_0\"); (\"e_1\", \"v_1\"); (\"e_2\", \"v_1\"); (\"e_3\", \"v_0\")]]\n",
    "\n",
    "    Presheaf.make \"{{h_E}^{h_V}}\" cat ob ar\n",
    "\n",
    "Presheaf.isIso F (hE ^ hV)"
   ]
  },
  {
   "cell_type": "code",
   "execution_count": 9,
   "metadata": {},
   "outputs": [
    {
     "output_type": "execute_result",
     "data": {
      "text/html": "<div class=\"dni-plaintext\">21</div>"
     },
     "metadata": {},
     "execution_count": 9
    }
   ],
   "source": [
    "let subalg = Subobject.subalgebra cat F // Define the algebra of subgraphs of our last example.\n",
    "\n",
    "let subobjects = subalg.Subobjects\n",
    "\n",
    "\n",
    "subobjects |> Set.count // There are 21 subgraphs."
   ]
  },
  {
   "cell_type": "code",
   "execution_count": 10,
   "metadata": {},
   "outputs": [
    {
     "output_type": "execute_result",
     "data": {
      "text/html": "<div class=\"dni-plaintext\">21</div>"
     },
     "metadata": {},
     "execution_count": 10
    }
   ],
   "source": [
    "let omega = Truth.omega cat // Define the truth object Omega of the category, defined by Sub F ~= hom <F, Omega> (an isomorphism of functors).\n",
    "\n",
    "\n",
    "Morphism.hom F omega |> Set.count // We can at least check for now that as sets they are isomorphic."
   ]
  },
  {
   "cell_type": "code",
   "execution_count": 11,
   "metadata": {},
   "outputs": [
    {
     "output_type": "execute_result",
     "data": {
      "text/latex": "Name: \\[\\mathsf{{{{h_E}^{h_V}}}_{18}}\\]\n        Ob: \\begin{align*}\n E  &\\mapsto  \\emptyset \\\\\n V  &\\mapsto  \\lbrace  v_0 ,  v_1 \\rbrace \\\\\n\\end{align*}\n        Ar: \\begin{align*}\n1_{ E } &\\mapsto \\left\\lbrace\\begin{aligned}\n\n\\end{aligned}\\right\\rbrace \\\\\n1_{ V } &\\mapsto \\left\\lbrace\\begin{aligned}\n v_0  &\\mapsto  v_0 \\\\\n v_1  &\\mapsto  v_1 \\\\\n\\end{aligned}\\right\\rbrace \\\\\ns &\\mapsto \\left\\lbrace\\begin{aligned}\n\n\\end{aligned}\\right\\rbrace \\\\\nt &\\mapsto \\left\\lbrace\\begin{aligned}\n\n\\end{aligned}\\right\\rbrace \\\\\n\\end{align*}"
     },
     "metadata": {},
     "execution_count": 11
    }
   ],
   "source": [
    "// The subobjects have the structure of a biheyting algebra that supports operations like meet, join, implication, subtraction, negation, supplement.\n",
    "\n",
    "let g = subalg.Subobjects |> Seq.item 2 // Take an arbitrary subgraph...\n",
    "\n",
    "\n",
    "g |> Latex.print // It has two vertices and no edges:"
   ]
  },
  {
   "cell_type": "code",
   "execution_count": 12,
   "metadata": {},
   "outputs": [
    {
     "output_type": "execute_result",
     "data": {
      "text/html": "<div class=\"dni-plaintext\">True</div>"
     },
     "metadata": {},
     "execution_count": 12
    }
   ],
   "source": [
    "// The negation of a subgraph is the largest subgraph disjoint from it. For g above, that is the empty graph:\n",
    "\n",
    "let negation = Subobject.negate subalg g\n",
    "\n",
    "\n",
    "Presheaf.isIso negation (Presheaf.zero cat)"
   ]
  },
  {
   "cell_type": "code",
   "execution_count": 13,
   "metadata": {},
   "outputs": [
    {
     "output_type": "execute_result",
     "data": {
      "text/html": "<div class=\"dni-plaintext\">True</div>"
     },
     "metadata": {},
     "execution_count": 13
    }
   ],
   "source": [
    "// The boundary operator of a subgraph X is the subgraph of vertices of X connected to the outside.\n",
    "\n",
    "// We will check the product rule for the boundary operator: ∂(x ∧ y) = (∂x ∧ y) ∨ (x ∧ ∂y).\n",
    "\n",
    "let (+) = Subobject.join // First define some shorthand commands.\n",
    "let (*) = Subobject.meet\n",
    "let d = Subobject.boundary subalg\n",
    "\n",
    "let productRule (X, Y) = d (X * Y) = (d X * Y) + (X * d Y)\n",
    "\n",
    "\n",
    "subobjects |> Set.square |> Set.forall productRule  // Verify the product rule holds on the subalgebra."
   ]
  },
  {
   "cell_type": "code",
   "execution_count": 14,
   "metadata": {},
   "outputs": [
    {
     "output_type": "execute_result",
     "data": {
      "text/latex": "\\[\\left\\lbrace {({ h_{ V } } \\Rightarrow  { h_{ E } })}_{0}, {({ h_{ V } } \\Rightarrow  { h_{ E } })}_{1} \\right\\rbrace\\]"
     },
     "metadata": {},
     "execution_count": 14
    }
   ],
   "source": [
    "// We can glue graphs together using colimits. We will glue the two vertices of hE to make a loop using a coequaliser:\n",
    "\n",
    "let morphisms = Morphism.hom hV hE // There are two morphisms hV -> hE that send the single vertex of hV to either vertex of hE.\n",
    "\n",
    "\n",
    "morphisms |> Latex.print"
   ]
  },
  {
   "cell_type": "code",
   "execution_count": 15,
   "metadata": {},
   "outputs": [
    {
     "output_type": "execute_result",
     "data": {
      "text/latex": "Name: \\[\\mathsf{Coeq \\lbrace {({ h_{ V } } \\Rightarrow  { h_{ E } })}_{0}, {({ h_{ V } } \\Rightarrow  { h_{ E } })}_{1}\\rbrace }\\]\n        Ob: \\begin{align*}\n E  &\\mapsto  \\lbrace  \\lbrace 1_{ E }\\rbrace \\rbrace \\\\\n V  &\\mapsto  \\lbrace  \\lbrace s,  t\\rbrace \\rbrace \\\\\n\\end{align*}\n        Ar: \\begin{align*}\n1_{ E } &\\mapsto \\left\\lbrace\\begin{aligned}\n \\lbrace 1_{ E }\\rbrace  &\\mapsto  \\lbrace 1_{ E }\\rbrace \\\\\n\\end{aligned}\\right\\rbrace \\\\\n1_{ V } &\\mapsto \\left\\lbrace\\begin{aligned}\n \\lbrace s,  t\\rbrace  &\\mapsto  \\lbrace s,  t\\rbrace \\\\\n\\end{aligned}\\right\\rbrace \\\\\ns &\\mapsto \\left\\lbrace\\begin{aligned}\n \\lbrace 1_{ E }\\rbrace  &\\mapsto  \\lbrace s,  t\\rbrace \\\\\n\\end{aligned}\\right\\rbrace \\\\\nt &\\mapsto \\left\\lbrace\\begin{aligned}\n \\lbrace 1_{ E }\\rbrace  &\\mapsto  \\lbrace s,  t\\rbrace \\\\\n\\end{aligned}\\right\\rbrace \\\\\n\\end{align*}"
     },
     "metadata": {},
     "execution_count": 15
    }
   ],
   "source": [
    "let n = morphisms |> Seq.item 0\n",
    "let m = morphisms |> Seq.item 1\n",
    "\n",
    "                                       //                                         n\n",
    "let L = Presheaf.coequaliser hV n m hE // Take the coequaliser of the diagram hV --> hE .\n",
    "                                       //                                        --> \n",
    "                                       //                                         m\n",
    "\n",
    "L |> Latex.print // It is a loop: there is one vertex (the set {s,t}) and one edge (the set {1_E}) whose source and target is the vertex."
   ]
  }
 ]
}